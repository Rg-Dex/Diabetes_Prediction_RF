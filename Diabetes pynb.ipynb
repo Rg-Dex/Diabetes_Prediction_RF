{
  "metadata": {
    "kernelspec": {
      "name": "python",
      "display_name": "Python (Pyodide)",
      "language": "python"
    },
    "language_info": {
      "codemirror_mode": {
        "name": "python",
        "version": 3
      },
      "file_extension": ".py",
      "mimetype": "text/x-python",
      "name": "python",
      "nbconvert_exporter": "python",
      "pygments_lexer": "ipython3",
      "version": "3.8"
    }
  },
  "nbformat_minor": 5,
  "nbformat": 4,
  "cells": [
    {
      "id": "b159a02d-50fb-424e-8b8f-a3597416c33f",
      "cell_type": "code",
      "source": "import pandas as pd\n",
      "metadata": {
        "trusted": true
      },
      "outputs": [],
      "execution_count": 1
    },
    {
      "id": "06a76372-7b12-47d5-93b1-4ce6a117e862",
      "cell_type": "code",
      "source": "data = pd.read_csv('diabetesdataset.csv')",
      "metadata": {
        "trusted": true
      },
      "outputs": [],
      "execution_count": null
    },
    {
      "id": "15b35623-8383-4d34-b799-61bb57d5984f",
      "cell_type": "code",
      "source": "data.head()",
      "metadata": {
        "trusted": true
      },
      "outputs": [],
      "execution_count": null
    },
    {
      "id": "7c14d1c2-98bd-4091-92c6-9203ed61e79d",
      "cell_type": "code",
      "source": "data. tail()",
      "metadata": {
        "trusted": true
      },
      "outputs": [],
      "execution_count": null
    },
    {
      "id": "a507448c-7c53-4567-98a3-6c75845c1f33",
      "cell_type": "code",
      "source": " data.shape",
      "metadata": {
        "trusted": true
      },
      "outputs": [],
      "execution_count": null
    },
    {
      "id": "6bda3cca-587f-4722-9e46-41d686447cdf",
      "cell_type": "code",
      "source": "print(\"Number of Rows \", data.shape[0]);",
      "metadata": {
        "trusted": true
      },
      "outputs": [],
      "execution_count": null
    },
    {
      "id": "c50f3c29-9b96-4470-9070-51ab90f33c90",
      "cell_type": "code",
      "source": "print(\"Number of Rows \", data.shape[1]);",
      "metadata": {
        "trusted": true
      },
      "outputs": [],
      "execution_count": null
    },
    {
      "id": "285380ff-36d5-4a8f-b401-893ca3e12fd2",
      "cell_type": "code",
      "source": "print(\"Number of Columns\", data.shape[1]);",
      "metadata": {
        "trusted": true
      },
      "outputs": [],
      "execution_count": null
    },
    {
      "id": "a388f171-0ff9-4019-aa64-9868e7feb619",
      "cell_type": "code",
      "source": "data.info()",
      "metadata": {
        "trusted": true
      },
      "outputs": [],
      "execution_count": null
    },
    {
      "id": "cd85d52d-ca52-4153-88ea-1802ee43d450",
      "cell_type": "code",
      "source": "data = data.drop(columns=['Unnamed: 0'])",
      "metadata": {
        "trusted": true
      },
      "outputs": [],
      "execution_count": null
    },
    {
      "id": "f3663fa8-d6f6-4e04-83d1-d34c33077557",
      "cell_type": "code",
      "source": "data.info()",
      "metadata": {
        "trusted": true
      },
      "outputs": [],
      "execution_count": null
    },
    {
      "id": "cd11437b-200d-4556-af4c-a32ae983ded5",
      "cell_type": "code",
      "source": "data.shape",
      "metadata": {
        "trusted": true
      },
      "outputs": [],
      "execution_count": null
    },
    {
      "id": "aab9ca2d-aac3-4ee0-bfc7-71e675093141",
      "cell_type": "code",
      "source": "data.isnull()",
      "metadata": {
        "trusted": true
      },
      "outputs": [],
      "execution_count": null
    },
    {
      "id": "6dedd39d-0eca-4e98-a642-ed19d787c344",
      "cell_type": "code",
      "source": "data.isnull().sum()",
      "metadata": {
        "trusted": true
      },
      "outputs": [],
      "execution_count": null
    },
    {
      "id": "1a8a0c1b-dd2a-4fe4-a6d9-8fb4ecee452a",
      "cell_type": "code",
      "source": "data.describe()",
      "metadata": {
        "trusted": true
      },
      "outputs": [],
      "execution_count": null
    },
    {
      "id": "a3f2e8cb-25cb-4253-b545-dcb3ab4f0e52",
      "cell_type": "code",
      "source": "import numpy as np",
      "metadata": {
        "trusted": true
      },
      "outputs": [],
      "execution_count": null
    },
    {
      "id": "8c031edf-3cfb-4a6b-922e-15b8fc64185b",
      "cell_type": "code",
      "source": "data_copy = data.copy(deep = True)",
      "metadata": {
        "trusted": true
      },
      "outputs": [],
      "execution_count": null
    },
    {
      "id": "ae4009fa-3643-4d50-bb22-5a9ac51aed20",
      "cell_type": "code",
      "source": "data_copy.isnull()",
      "metadata": {
        "trusted": true
      },
      "outputs": [],
      "execution_count": null
    },
    {
      "id": "8e0aca17-c630-4fa2-841a-00319711db17",
      "cell_type": "code",
      "source": "data.columns",
      "metadata": {
        "trusted": true
      },
      "outputs": [],
      "execution_count": null
    },
    {
      "id": "9f014c36-3b89-4378-a455-359ccf338f49",
      "cell_type": "code",
      "source": "data_copy = data.copy(deep = True)",
      "metadata": {
        "trusted": true
      },
      "outputs": [],
      "execution_count": null
    },
    {
      "id": "14e9b701-d09e-49ea-8fcd-a6b1500331d5",
      "cell_type": "code",
      "source": "data_copy.shape",
      "metadata": {
        "trusted": true
      },
      "outputs": [],
      "execution_count": null
    },
    {
      "id": "34be83c5-a74a-4865-88f8-1feac20fce61",
      "cell_type": "code",
      "source": "data_copy.isnull().sum()",
      "metadata": {
        "trusted": true
      },
      "outputs": [],
      "execution_count": null
    },
    {
      "id": "92fa21e7-30e4-4398-90d3-bdd4d992c830",
      "cell_type": "code",
      "source": "data_copy[['Glucose', 'BloodPressure', 'SkinThickness','Insulin','BMI']]",
      "metadata": {
        "trusted": true
      },
      "outputs": [],
      "execution_count": null
    },
    {
      "id": "4f12cfa2-a9bb-4df3-b060-a8f27a3812ae",
      "cell_type": "code",
      "source": "data_copy[['Glucose', 'BloodPressure', 'SkinThickness','Insulin','BMI']] = data_copy[['Glucose', 'BloodPressure', 'SkinThickness','Insulin','BMI']].replace(0,np.nan)",
      "metadata": {
        "trusted": true
      },
      "outputs": [],
      "execution_count": null
    },
    {
      "id": "c7811b88-b314-4b01-9cff-2de5637e9ea0",
      "cell_type": "code",
      "source": "data_copy.isnull().sum()",
      "metadata": {
        "trusted": true
      },
      "outputs": [],
      "execution_count": null
    },
    {
      "id": "99d47007-1d69-477f-9122-ae6ea9c06e3e",
      "cell_type": "code",
      "source": "data['Glucose'] = data['Glucose'].replace(0,data['Glucose'].mean())\ndata['BloodPressure'] = data['BloodPressure'].replace(0,data['BloodPressure'].mean())\ndata['SkinThickness'] = data['SkinThickness'].replace(0,data['SkinThickness'].mean())\ndata['Insulin'] = data['Insulin'].replace(0,data['Insulin'].mean())\ndata['BMI'] = data['BMI'].replace(0,data['BMI'].mean())",
      "metadata": {
        "trusted": true
      },
      "outputs": [],
      "execution_count": null
    },
    {
      "id": "b0a0f3fe-c76d-45f9-9005-a25a3656ed2f",
      "cell_type": "code",
      "source": "x = data.drop('Outcome',axis=1)\ny = data['Outcome']",
      "metadata": {
        "trusted": true
      },
      "outputs": [],
      "execution_count": null
    },
    {
      "id": "b5cd6d1c-b952-4adf-a253-0f12e9085dfa",
      "cell_type": "code",
      "source": "x",
      "metadata": {
        "trusted": true
      },
      "outputs": [],
      "execution_count": null
    },
    {
      "id": "48f6bc5e-297b-4fc8-848d-c6a010c32cc2",
      "cell_type": "code",
      "source": "y",
      "metadata": {
        "trusted": true
      },
      "outputs": [],
      "execution_count": null
    },
    {
      "id": "7aba06ca-cb02-45a8-b65d-ba4a6631f657",
      "cell_type": "code",
      "source": "#For these type of binary outcomes we use Classification techniques",
      "metadata": {
        "trusted": true
      },
      "outputs": [],
      "execution_count": null
    },
    {
      "id": "1ee952d3-e1e0-4394-9975-7f85a52a4e99",
      "cell_type": "code",
      "source": "from sklearn.model_selection import train_test_split\nx_train, x_test, y_train, y_test = train_test_split (x,y, test_size =0.20, \n                                                      random_state = 42)",
      "metadata": {
        "trusted": true
      },
      "outputs": [],
      "execution_count": null
    },
    {
      "id": "c88b7fd7-b7c5-4fa2-8844-d85ba8e0d651",
      "cell_type": "code",
      "source": "# test_size means we are gointg to keep aside 20% data for testing\n#We Feature matrix in x and target variable in y",
      "metadata": {
        "trusted": true
      },
      "outputs": [],
      "execution_count": null
    },
    {
      "id": "c0efdf26-7035-4584-bf54-f3ec479a4475",
      "cell_type": "code",
      "source": "# train krenge using xtrain & ytrain, and we will perform our\n#prediction using x test and comapre our predictive results by our models with y test ",
      "metadata": {
        "trusted": true
      },
      "outputs": [],
      "execution_count": null
    },
    {
      "id": "2acabd04-0795-40a0-8c29-cee7fd731856",
      "cell_type": "code",
      "source": "# Ml pipeline chanis together multiple steps where output of each \n# step is used as input to the next step \n# Used to automate a ML workflow",
      "metadata": {
        "trusted": true
      },
      "outputs": [],
      "execution_count": null
    },
    {
      "id": "220e3a1d-d1e2-4159-a8dd-8fc14f3604d4",
      "cell_type": "code",
      "source": "from sklearn.preprocessing import StandardScaler\nfrom sklearn.linear_model import LogisticRegression\nfrom sklearn.neighbors import KNeighborsClassifier\nfrom sklearn.svm import SVC\n\nfrom sklearn.tree import DecisionTreeClassifier\nfrom sklearn.ensemble import RandomForestClassifier\nfrom sklearn.ensemble import GradientBoostingClassifier\n\nfrom sklearn.pipeline import Pipeline\n\n\n\n",
      "metadata": {
        "trusted": true
      },
      "outputs": [],
      "execution_count": null
    },
    {
      "id": "560713de-1d86-48b3-9e6e-da80b0928d61",
      "cell_type": "code",
      "source": "# we need to scale our values using standard saler for NON linear ML algos|",
      "metadata": {
        "trusted": true
      },
      "outputs": [],
      "execution_count": null
    },
    {
      "id": "e413f176-49eb-4f47-8c5d-bf2b6b3cc3f7",
      "cell_type": "code",
      "source": "pipeline_lr = Pipeline ([('scaler1',StandardScaler()), \n                         ('lr_classifier', LogisticRegression())])\npipeline_knn = Pipeline ([('scaler2',StandardScaler()), \n                         ('knn_classifier', KNeighborsClassifier())])  \npipeline_svc = Pipeline ([('scaler3',StandardScaler()), \n                         ('svc_classifier', SVC())])\n\n\npipeline_dt = Pipeline ([('dt_classifier', DecisionTreeClassifier())])\npipeline_rf = Pipeline ([('rf_classifier', RandomForestClassifier(max_depth=3))])\npipeline_gbc = Pipeline ([('gbc_classifier', GradientBoostingClassifier())])",
      "metadata": {
        "trusted": true
      },
      "outputs": [],
      "execution_count": null
    },
    {
      "id": "4f8ebdf8-d574-4f42-897d-c75c0e448713",
      "cell_type": "code",
      "source": "pipelines = [ pipeline_lr,\n              pipeline_knn,\n              pipeline_svc,\n              pipeline_dt,\n              pipeline_rf,\n              pipeline_gbc\n            ]\n              ",
      "metadata": {
        "trusted": true
      },
      "outputs": [],
      "execution_count": null
    },
    {
      "id": "2de8c07a-f321-42a1-bf6e-287e57aaa449",
      "cell_type": "code",
      "source": "pipelines",
      "metadata": {
        "trusted": true
      },
      "outputs": [],
      "execution_count": null
    },
    {
      "id": "70190202-5d0f-40ec-a0d1-86ba4fece772",
      "cell_type": "code",
      "source": "# Now training the pipelines",
      "metadata": {
        "trusted": true
      },
      "outputs": [],
      "execution_count": null
    },
    {
      "id": "18f03292-9bd0-4b45-93d2-91aad1e8f863",
      "cell_type": "code",
      "source": "for pipe in pipelines :\n    pipe.fit(x_train, y_train)",
      "metadata": {
        "trusted": true
      },
      "outputs": [],
      "execution_count": null
    },
    {
      "id": "fb5d95f6-b8d8-475f-939d-ab7bc104a6f7",
      "cell_type": "code",
      "source": "# now prediction of data",
      "metadata": {
        "trusted": true
      },
      "outputs": [],
      "execution_count": null
    },
    {
      "id": "d051b20b-e79f-4172-ac88-bc8d2e141b0f",
      "cell_type": "code",
      "source": "pipe_dict = {0 : 'LR',\n             1 : 'KNN',\n             2 : 'SVC',\n             3 : 'DT',\n             4 : 'RF',\n             5 : 'GBC',}",
      "metadata": {
        "trusted": true
      },
      "outputs": [],
      "execution_count": null
    },
    {
      "id": "4b405a0a-6fb7-4353-8469-16fcb0aa5499",
      "cell_type": "code",
      "source": "pipe_dict",
      "metadata": {
        "trusted": true
      },
      "outputs": [],
      "execution_count": null
    },
    {
      "id": "cd780c3e-699b-4f35-abfd-913aecd8a2b5",
      "cell_type": "code",
      "source": "for i, model in enumerate (pipelines):\n    print(\"{} Test Accuracy : {}\".format(pipe_dict[i],model.score(x_test,y_test)*100))",
      "metadata": {
        "trusted": true
      },
      "outputs": [],
      "execution_count": null
    },
    {
      "id": "7ce68c97-e47f-4328-abe4-74daea0ebf98",
      "cell_type": "code",
      "source": "# now we can tune any model to increase our accuracy score, tuning RF classifier",
      "metadata": {
        "trusted": true
      },
      "outputs": [],
      "execution_count": null
    },
    {
      "id": "088b680f-a797-4b39-8b8f-9c0cc69e31f0",
      "cell_type": "code",
      "source": "from sklearn.ensemble import RandomForestClassifier",
      "metadata": {
        "trusted": true
      },
      "outputs": [],
      "execution_count": null
    },
    {
      "id": "2c145d32-c0e2-4a5a-b0b9-35d790ed1f86",
      "cell_type": "code",
      "source": "x = data.drop('Outcome',axis =1)\ny = data['Outcome']",
      "metadata": {
        "trusted": true
      },
      "outputs": [],
      "execution_count": null
    },
    {
      "id": "a2585e0c-770c-4a8d-b24e-844c90195fd6",
      "cell_type": "code",
      "source": "rf = RandomForestClassifier(max_depth=3)",
      "metadata": {
        "trusted": true
      },
      "outputs": [],
      "execution_count": null
    },
    {
      "id": "adcdec79-daa3-4a3b-838e-ed98183e0d17",
      "cell_type": "code",
      "source": "rf.fit(x,y)",
      "metadata": {
        "trusted": true
      },
      "outputs": [],
      "execution_count": null
    },
    {
      "id": "91b48653-4f15-4a76-88b4-92e336153922",
      "cell_type": "code",
      "source": "new_data = pd.DataFrame({\n    'Pregnancies' :6,\n    'Glucose' :148.0,\n    'BloodPressure' :72.0,\n    'SkinThickness' :35.0,\n    'Insulin' :79.799479,\n    'BMI' :33.6,\n    'DiabetesPedigreeFunction' : 0.627,\n    'Age' : 50,\n},index=[0])",
      "metadata": {
        "trusted": true
      },
      "outputs": [],
      "execution_count": null
    },
    {
      "id": "e22e2d4a-9a8f-45f1-bc5b-ea58a437bbcf",
      "cell_type": "code",
      "source": "p = rf.predict(new_data)",
      "metadata": {
        "trusted": true
      },
      "outputs": [],
      "execution_count": null
    },
    {
      "id": "728ce033-0054-4714-a70d-0ba325fc29fa",
      "cell_type": "code",
      "source": " if p[0] == 0:\n    print('non-diabetic')\n else:\n    print('diabetic')",
      "metadata": {
        "trusted": true
      },
      "outputs": [],
      "execution_count": null
    },
    {
      "id": "bd91b5a2-e810-4db4-9991-b9e5d2f269fd",
      "cell_type": "code",
      "source": "#we dont want to train our model again and again so we will save \n#the model using joblib",
      "metadata": {
        "trusted": true
      },
      "outputs": [],
      "execution_count": null
    },
    {
      "id": "d5d570cb-edf6-4bbc-9ba0-09305f5fdb48",
      "cell_type": "code",
      "source": "import joblib",
      "metadata": {
        "trusted": true
      },
      "outputs": [],
      "execution_count": null
    },
    {
      "id": "ce4321aa-e56c-43ee-a8de-06bf6946e511",
      "cell_type": "code",
      "source": "joblib.dump(rf,'model_joblib_diabetes')",
      "metadata": {
        "trusted": true
      },
      "outputs": [],
      "execution_count": null
    },
    {
      "id": "4c99255f-32f0-4ca1-a9ee-b919771fe482",
      "cell_type": "code",
      "source": "model = joblib.load('model_joblib_diabetes')",
      "metadata": {
        "trusted": true
      },
      "outputs": [],
      "execution_count": null
    },
    {
      "id": "b7f6d799-d49b-42cf-8d37-53319cac42ba",
      "cell_type": "code",
      "source": "model.predict (new_data)",
      "metadata": {
        "trusted": true
      },
      "outputs": [],
      "execution_count": null
    },
    {
      "id": "935d55b9-f570-4d6d-ac28-214c10657341",
      "cell_type": "code",
      "source": "import pickle",
      "metadata": {
        "trusted": true
      },
      "outputs": [],
      "execution_count": null
    },
    {
      "id": "16b52368-d1b8-4bea-901d-bb54d738af02",
      "cell_type": "code",
      "source": "filename = 'trained_model.sav'\npickle.dump(rf,open(filename, 'wb'))",
      "metadata": {
        "trusted": true
      },
      "outputs": [],
      "execution_count": null
    },
    {
      "id": "7db5f1e8-85e7-46d1-afd8-2dd2e35fea1a",
      "cell_type": "code",
      "source": "",
      "metadata": {
        "trusted": true
      },
      "outputs": [],
      "execution_count": null
    }
  ]
}